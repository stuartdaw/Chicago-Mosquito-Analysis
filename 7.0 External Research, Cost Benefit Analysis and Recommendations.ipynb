{
 "cells": [
  {
   "cell_type": "markdown",
   "metadata": {},
   "source": [
    "# External Research, Cost Benefit Analysis and Recommendations"
   ]
  },
  {
   "cell_type": "markdown",
   "metadata": {},
   "source": [
    "---"
   ]
  },
  {
   "cell_type": "markdown",
   "metadata": {},
   "source": [
    "# Contents"
   ]
  },
  {
   "cell_type": "markdown",
   "metadata": {},
   "source": [
    "- [1.0 External Research](#1.0-External-Research)\n",
    "    - [1.1 West Nile Virus](#1.1-West-Nile-Virus)\n",
    "    - [1.2 Chicago](#1.2-Chicago)\n",
    "    - [1.3 Mosquitos](#1.3-Mosquitos)\n",
    "- [2.0 Weather](#2.0-Weather)\n",
    "- [3.0 Spray](#3.0-Spray)\n",
    "- [4.0 Key Findings From the Model](#4.0-Key-Findings-From-the-Model)\n",
    "- [5.0 Cost Benefit Anaysis](#5.0-Cost-Benefit-Analysis)\n",
    "- [6.0 Recommendations](#6.0-Recommendations)\n",
    "- [7.0 Further Research](#7.0-Further-Research)\n"
   ]
  },
  {
   "cell_type": "markdown",
   "metadata": {},
   "source": [
    "---"
   ]
  },
  {
   "cell_type": "markdown",
   "metadata": {},
   "source": [
    "# 1.0 External Research"
   ]
  },
  {
   "cell_type": "markdown",
   "metadata": {},
   "source": [
    "## 1.1 West Nile Virus"
   ]
  },
  {
   "cell_type": "markdown",
   "metadata": {},
   "source": [
    "### History\n",
    "\n",
    "+ First confirmed cases occured in 2001 when two dead crows were found to have died from being infected with WNV.\n",
    "+ 2002 the first human cases and deaths were confirmed. 884 cases were confirmed with 64 deaths.\n",
    "+ Disease is most commonly spread to humans with mosquito bites.\n",
    "\n",
    "### Severity of disease\n",
    "\n",
    "+ Symptons can last between 3-14 days\n",
    "+ 1 in 5 people are infected go on to develop a fever. (CDC)\n",
    "+ 1 in 150 develop serious symptons which can lead to death.(CDC)\n",
    "+ High risk groups incude the over 60 demographic.\n",
    "\n",
    "\n",
    "### Sources\n",
    "\n",
    "[West Nile Virus Facts & History](https://www.palatine.il.us/501/West-Nile-Virus-Facts-History#:~:text=In%20Illinois%2C%20West%20Nile%20virus,found%20in%20the%20Chicago%20area.) | \n",
    "[West Nile Virus. Overview](http://www.dph.illinois.gov/topics-services/diseases-and-conditions/west-nile-virus) | \n",
    "[CDC WNV overview](https://www.cdc.gov/westnile/index.html)"
   ]
  },
  {
   "cell_type": "markdown",
   "metadata": {},
   "source": [
    "---"
   ]
  },
  {
   "cell_type": "markdown",
   "metadata": {},
   "source": [
    "## 1.2 Chicago"
   ]
  },
  {
   "cell_type": "markdown",
   "metadata": {},
   "source": [
    "## Overview"
   ]
  },
  {
   "cell_type": "markdown",
   "metadata": {},
   "source": [
    "Chicago.gov describes the city as  \n",
    "\n",
    "\n",
    ">The City of Chicago covers an  area of 60,000 hectares and sits 176 meters (578 feet) above sea level on the southwestern shore of Lake Michigan. At 190 km wide and 495 km long, its the 5th largest body of fresh water in the world. The city is traversed by the Chicago and Calumet rivers. Chicago's extensive parklands, including 3,000 hectares of city parks attract an estimated 86 million visitors annually.\n",
    "\n",
    ">As a multicultural city that thrives on the harmony and diversity of its neighborhoods, Chicago today embodies the values of America's heartland-integrity, hard work and community and reflects the ideals in the social fabric of  its 77 distinct neighborhoods. \n",
    "\n",
    "[Source](https://www.chicago.gov/city/en/about.html)\n",
    "\n"
   ]
  },
  {
   "cell_type": "markdown",
   "metadata": {},
   "source": [
    "## Population"
   ]
  },
  {
   "cell_type": "markdown",
   "metadata": {},
   "source": [
    "It is in the 3rd most populated city in the USA and also has a high population density. \n",
    "\n",
    "\n",
    "\n",
    "+ Highest (Yellow) - 150,000 - 30,000 people per sq km \n",
    "\t\n",
    "+ Very high (Orange) - 7,000 people per sq km\n",
    "\t\n",
    "+ High (Red) - 5,200 people per sq km\n",
    "\t\n",
    "+ Low (Purple) - 3,300 people per sq km\n",
    "\t\n",
    "+ Very low (Dark purple) - 1,500 people per sq km\n",
    "\t\n",
    "+ Lowest (Grey) - below 1,500 people per sq km\n",
    "\n",
    "[Population density map](https://www.arcgis.com/home/webmap/viewer.html?webmap=dfa1866898254e8c8e4eb7b70af99ed4)\n",
    "\n",
    "\n",
    "![Chiacago population density](./assets/Images/Population_Density_Chicago.png)\n",
    "[Chicago.gov facts](https://www.chicago.gov/city/en/about/facts.html)\n"
   ]
  },
  {
   "cell_type": "markdown",
   "metadata": {},
   "source": [
    ">Chicago is a city in a garden... \n",
    "+ 600 parks\n",
    "+ 500 playgrounds  \n",
    "+ 70 nature and bird sanctuaries \n",
    "+ 29 beaches\n",
    "+ 26 miles of open lakefront\n",
    "\n",
    "[Chicago.gov](https://www.chicago.gov/city/en/about/facts.html)"
   ]
  },
  {
   "cell_type": "markdown",
   "metadata": {},
   "source": [
    "## Key Observations\n",
    "\n",
    "\n",
    "This is important to consider in the context of mosquitos as lots of fresh water lakes and rivers, parks and dense population would be seen as a good place for mosquitos to breed. This indicates why the West Nile Virus has taken hold of the city and been one of the worst hit in the USA."
   ]
  },
  {
   "cell_type": "markdown",
   "metadata": {},
   "source": [
    "---"
   ]
  },
  {
   "cell_type": "markdown",
   "metadata": {},
   "source": [
    "## 1.3 Mosquitos"
   ]
  },
  {
   "cell_type": "markdown",
   "metadata": {},
   "source": [
    "### Types\n",
    "\n",
    "There are lots of types of mosquitos that are found to carry the West Nile Virus:\n",
    "    \n",
    "These include:\n",
    "\n",
    "Aedes aegypti | Aedes albopictus | Aedes atlanticus/tormentor | Aedes atropalpus | Aedes canadensis | Aedes cantator  | Aedes cinereus  | Aedes condolescens | Aedes dorsalis | Aedes dupreei | Aedes epactius  | Aedes fitchii  | Aedes fulvus pallens  | Aedes grossbecki  | Aedes infirmatus  | Aedes japonicus | Aedes melanimon\n",
    "| Aedes nigromaculis | Aedes provocans | Aedes sollicitans  | Aedes squamiger | Aedes sticticus | Aedes stimulans | Aedes taeniorhynchus | Aedes triseriatus | Aedes trivittatus | Aedes vexans | Anopheles atropos | Anopheles barberi | Anopheles bradleyi/crucians | Anopheles franciscanus | Anopheles freeborni | Anopheles hermsi | Anopheles punctipennis | Anopheles quadrimaculatus | Anopheles walkeri | Coquillettidia perturbans | Culex apicalis | Culex bahamensis | Culex coronator | Culex erraticus | Culex erythrothorax | Culex nigripalpus | Culex pipiens | Culex quinquefasciatus | Culex restuans | Culex salinarius | Culex stigmatosoma | Culex tarsalis | Culex territans | Culex thriambus | Culiseta incidens | Culiseta impatiens | Culiseta inornata | Culiseta melanura | Culiseta morsitans | Culiseta particeps | Deinocerites cancer | Mansonia titillans | Orthopodomyia signifera | Psorophora ciliata | Psorophora columbiae | Psorophora ferox | Psorophora howardii | Psorophora signipennis | Uranotaenia sapphirina\n",
    "\n",
    "[WNV carrying mosquitos](https://www.cdc.gov/westnile/resources/pdfs/MosquitoSpecies1999-2016.pdf)\n",
    "\n",
    "The 3 main WNV carrying mosquitos in the USA though are Culx pipiens, Culex quinquefasciatus and Culex tarsalis [WNV Study](https://www.cdc.gov/westnile/resources/pdfs/wnvGuidelines.pdf)\n",
    "\n",
    "### Chicago Mosquitos\n",
    "\n",
    "There are only a few of these types of mosquitos in chicago. They fall into 2 categories - Flood water and vector mosquitos.\n",
    "\n",
    "\n",
    "+ Flood water - Aedes vexans can fly 10 or more miles from where they hatch. They are very aggressive species. They can transmit West Nile Virus and are present in Chicago. However its noted they did not appear in our trap data for any of the years. \n",
    "\n",
    "\n",
    "+ Culex Mosquitos or 'house mosquito' dont fly so far, up to 2 miles from breeding sites. These are prevalent in our trap data. 2 of which Culex Restuans and Culex Pipians were the main transmitters of the disease.\n",
    "\n",
    "\n",
    "\n",
    "[Types of Chicago Mosquitos](https://www.dph.illinois.gov/topics-services/environmental-health-protection/structural-pest-control/mosquitoes)\n",
    "[]()"
   ]
  },
  {
   "cell_type": "markdown",
   "metadata": {},
   "source": [
    "---"
   ]
  },
  {
   "cell_type": "markdown",
   "metadata": {},
   "source": [
    "The Mosquitos have some specific characterisitcs that are important to note for our study. Understanding the lifecyle and how they transmit the disease will be a key component in in our recommendations."
   ]
  },
  {
   "cell_type": "markdown",
   "metadata": {},
   "source": [
    "---"
   ]
  },
  {
   "cell_type": "markdown",
   "metadata": {},
   "source": [
    "### Lifecycle\n",
    "\n",
    "It takes the Culex Pipen 7-10 days for an egg to develop into a adult. This doesnt take into account time take to find a breeding site and breed.\n",
    "\n",
    "Therefore there is a chance to kill them during the ~7 days they are concentrated in the water."
   ]
  },
  {
   "cell_type": "markdown",
   "metadata": {},
   "source": [
    "![Culex Pipien Life cycle](assets/Images/Culex_Pipen_Life_Cycle.png)\n",
    "\n",
    "[Culex life cyle](https://www.cdc.gov/westnile/resources/pdfs/FS_MosquitoLifeCycle-508.pdf)"
   ]
  },
  {
   "cell_type": "markdown",
   "metadata": {},
   "source": [
    "The West Nile Virus is caught by mosquitos by biting host birds or other animals. The concentration of the disease builds up in these 'Amplifier' hosts and can then be spread by the mosquitos.\n",
    "\n",
    "Larger animals and humans are 'Dead end' hosts as the concentration of the disease is low and therefore cant be picked up by mosquitos."
   ]
  },
  {
   "cell_type": "markdown",
   "metadata": {},
   "source": [
    "![Mosquito Life Cyle](assets/Images/West_Nile_Virus_Transmission_Cycle.png)"
   ]
  },
  {
   "cell_type": "markdown",
   "metadata": {},
   "source": [
    "## Breeding patterns"
   ]
  },
  {
   "cell_type": "markdown",
   "metadata": {},
   "source": [
    "> Under normal summer temperatures, large numbers of biting mosquitoes will emerge about two weeks after heavy rains and can be a major nuisance problem for several weeks.\n",
    "\n",
    "[Breeding patterns](http://www.idph.state.il.us/public/hb/hbmosquito.htm)"
   ]
  },
  {
   "cell_type": "markdown",
   "metadata": {},
   "source": [
    "## Key Observations\n",
    "\n",
    "\n",
    "The key things to note about this reserach is:\n",
    "\n",
    "+ Culex or the house mosquitos are the main danger to Chicago in spreading the virus.\n",
    "+ When they are eggs and have just hatched they live in water where there is a significant period when they are in high concentrations and vulnerable.\n",
    "+ The Culex mosquitos doesnt fly so far from its breeding ground, less than 2 miles.\n",
    "+ They like warm wet climates and 2 weeks after heavy rain is when you are likely to emerge."
   ]
  },
  {
   "cell_type": "markdown",
   "metadata": {},
   "source": [
    "---"
   ]
  },
  {
   "cell_type": "markdown",
   "metadata": {},
   "source": [
    "# 2.0 Weather"
   ]
  },
  {
   "cell_type": "markdown",
   "metadata": {},
   "source": [
    "Chicago is known as the Windy City. It has strong seasonality with very cold winters and mild and warm summers. The rainfall peaks in these warmer months which will increase the humidity. The graph below shows this.\n",
    "\n",
    "\n",
    "![Chicago_Weather_Chart](./assets/Images/Chicago_Weather_Chart.png)\n",
    "\n",
    "\n",
    "[Chicago weather data](https://www.usclimatedata.com/climate/chicago/illinois/united-states/usil0225)"
   ]
  },
  {
   "cell_type": "markdown",
   "metadata": {},
   "source": [
    "## Key Observations\n",
    "\n",
    "\n",
    "Given what we know about mosquitos it seems that the months of May until September are likely to be when mosquitos could be a problem for Chiacago.\n",
    "\n",
    "The cold winters are not optimal for mosquitos and residents are likely to be very well covered to stay warm which wil prevent any bites."
   ]
  },
  {
   "cell_type": "markdown",
   "metadata": {},
   "source": [
    "---"
   ]
  },
  {
   "cell_type": "markdown",
   "metadata": {},
   "source": [
    "# 3.0 Spray"
   ]
  },
  {
   "cell_type": "markdown",
   "metadata": {},
   "source": [
    "![Adulticiding Truck](assets/Images/Adulticiding_truck.png)\n",
    "    \n",
    "    \n",
    "\n",
    "\n",
    "\n"
   ]
  },
  {
   "cell_type": "markdown",
   "metadata": {},
   "source": [
    "There are several dimensions to spraying:\n",
    "    \n",
    "#### How\n",
    "+ Truck -  In Chicago truck-mounted sprayers like the one pictured above are used to spray insecticide. It disperses an ultra low volumne spray which kills mosquitos on contact.\n",
    "+ Plane - Ultra Low Volume sprayed from planes\n",
    "+ Both methods the insectide floats in the air \n",
    "\n",
    "#### Target\n",
    "+ Lavaciding\n",
    "    + killing the mosquito larvae\n",
    "    + When done correctly is environmentally safe [Larvacide fact sheet](https://www.cdc.gov/zika/pdfs/Larvicides-FactSheet.pdf)\n",
    "    + \"Bti typically causes 90–100% mortality\" and higly selective to killing mosquitos. Have to be careful of the impact on the food chain as some lareger animals lose a food source. [Effects of Larvaciding](https://environmentalevidencejournal.biomedcentral.com/articles/10.1186/s13750-019-0175-1)\n",
    "    + \"Experimental studies show that their effect lasts for several weeks\" [Cost and effectiveness study](https://journals.plos.org/plosntds/article?id=10.1371/journal.pntd.0005918)\n",
    "    \n",
    "    \n",
    "+ Adulticiding\n",
    "    + Killing adult mosquitos\n",
    "    + Mixed reports on environmental impact\n",
    "    + Is an irritant if contact is made to someones eyes.\n",
    "    + CDC says ok if used correctly\n",
    "    + Synthetic pyrethroid insecticides (such as Scourge ®and Anvil ®) are used [Illinois department of public health](https://www.dph.illinois.gov/topics-services/environmental-health-protection/structural-pest-control/mosquito-spray-faqs)\n",
    "    \n",
    "    > \"ANVIL (active ingredient: Sumithrin) is a synthetic pyrethroid insecticide, which may affect the\n",
    "central nervous system.\"\n",
    "\n",
    "    > Scourge: \"Pyrethroids affect the nervous system. They have been linked with liver and thyroid\n",
    "problems and they can also interfere with the immune and endocrine systems.\n",
    "Scourge contains the synergist (a chemical that increases the effectiveness of the\n",
    "active ingredient), pipernyl butoxide, which is classified by the EPA as\n",
    "a possible human carcinogen.\"\n",
    "\n",
    "[The Health Effects of Pesticides\n",
    "Used for Mosquito Control](https://www.beyondpesticides.org/assets/media/documents/mosquito/documents/citizensHealthEffectsMosqP.pdf)\n",
    "\n",
    "> Adulticide spraying rapidly reduces the number of mosquitoes, but its effect is short-lived \n",
    "[Cost and effectiveness study](https://journals.plos.org/plosntds/article?id=10.1371/journal.pntd.0005918)\n",
    "\n",
    "#### Type\n",
    "+ Tablet, pellet, granular, and briquet formulations of larvicides\n",
    "+ Bacterial, Growth Inhibitors (Methoprene), Organophosphate (effects nervous system)\n",
    "\n",
    "+ Naled for Adulticiding which breaks down with sunlight \n",
    "\n",
    "#### Common larvacides used in Illinois\n",
    "\n",
    "|Larvicide|Type|Action|Primary Use|\n",
    "|---|---|---|---|\n",
    "|Abate® (Temephos)|Organophosphate|Directly toxic|Tires, containers, floodwater sites|\n",
    "|Altosid® (Methoprene)|Growth regulator|Prevents larvae from developing to adults|Catch basins, containers, floodwater sites|\n",
    "|Bacillus thuringiensis israelensis (Bti)|Bacterial|Gut toxin|Sites with “clean” floodwater, catch basins|\n",
    "|Bacillus sphaericus (Bs)|Bacterial|Gut toxin|Catch basins, septic waters (for Culex)|\n",
    "|Oils (Golden Bear® and BVA® ) 2,3|Surface treatment|Suffocation: film covers air tubes of larvae|Floodwater sites, catch basins,septic waters|\n",
    "\n",
    "#### When or Efectiveness\n",
    "+ Evening when mosquitos are active\n",
    "+ Weather plays an important decision in spraying\n",
    "    + low winds\n",
    "    + Temperatures has to be between 60-85 degrees Fahrenheit\n",
    "\n",
    "\n",
    "### Cost\n",
    "+ In 2002 one company was paid \\\\$450,000 for one application.\n",
    "+ Assuming that we have all the spray data for 2013 and prices remained similar then it would have cost \\\\$3.5 million. \n",
    "\n",
    "#### Sources\n",
    "[Illinois spray FAQ's](https://www.dph.illinois.gov/topics-services/environmental-health-protection/structural-pest-control/mosquito-spray-faqs) | [Illinois Larvacide Info](http://www.dph.illinois.gov/topics-services/diseases-and-conditions/west-nile-virus/vector-control) | [Northwest Abatement District](https://www.nwmadil.com/adulticiding-night-spray) | [Effective Mosquito Control](https://mikenowak.net/radio/how-effective-is-urban-mosquito-control/)\n"
   ]
  },
  {
   "cell_type": "markdown",
   "metadata": {},
   "source": [
    "## Key Observations\n",
    "\n",
    "\n",
    "+ Spraying can be used to kill both larvae and adult mosquitos\n",
    "+ Weather conditions are important when deciding when to use the spray to kills adult mosquitos.\n",
    "+ It is preferable that there is not any human contact.\n",
    "+ It is expensive to spray"
   ]
  },
  {
   "cell_type": "markdown",
   "metadata": {},
   "source": [
    "---"
   ]
  },
  {
   "cell_type": "markdown",
   "metadata": {},
   "source": [
    "# 4.0 Key Findings From the Model"
   ]
  },
  {
   "cell_type": "markdown",
   "metadata": {},
   "source": [
    "### Key Observations of Notable Features\n",
    "<ul>\n",
    "<li>Trap locations play a very strong role in classification model.The trap location coordinates appear to have the strongest influence due to the fact that certain areas would have a higher incidence of mosquitoes carrying the West Nile Virus. </li> \n",
    "<li>The amount of rainfall represented by the precipitation total (with a 14-day lag) was the next highest influencing factor. Stranding water resulting from rainfall are ideal breeding conditions for mosquitoes to lay their eggs.</li>\n",
    "<li>The month of August seems to be identified as a noteworthy feature as it probably presents optimal seasonal conditions favourable for mosquito breeding</li>\n",
    "<li>The average temperature (with a 10-14 lag) on the list, which takes into account the breeding lifecycle time, show that mosquitoes thrive and breed under interval-based temperature conditions.</li>  \n",
    "<li>Dewpoint is also important given humidity is a necessary element for breeding.</li>\n",
    "<li> It seems that certain years have prevalently more mosquitoes than other years. This could be due to the spraying events happening in later years resulting in a causative effect on the mosquito species and population distributions.\n",
    "<li>Wind direction also seems to play a role since stronger winds are known to disrupt flight activities of the mosquitoes.</li>    \n",
    "<li>One interesting observation is the notable presence of the 'CULEX RESTUAN' & 'CULEX_PIPIENS' combination mosquito species as an influencing feature. This could be due to the fact that the virus appears most frequently in these 2 particular breed of mosquitoes compared to the other types.</li>  \n",
    "</ul>"
   ]
  },
  {
   "cell_type": "markdown",
   "metadata": {},
   "source": [
    "### Synergies between external research and the model\n",
    "\n",
    "+ The important features in the model are consistent with a lot of facts the external research has provided.\n",
    "\n",
    "+ The mosquito species is a match as to what the most prevalent mosquito should be. There is an absence of Aedes vexans or flood water mosquitos. This is good as these are particularly aggressive.\n",
    "\n",
    "+ Temperature and humidity are key features in the model. This matches the preferred breeding conditions for mosquitos.\n",
    "\n"
   ]
  },
  {
   "cell_type": "markdown",
   "metadata": {},
   "source": [
    "### EDA Inferences\n",
    " \n",
    "+ From the spray EDA it was clear that spraying was mostly done between 8-10pm. This ties into our findings that this is the time when mosquitos are most active.\n",
    "\n",
    "+ As the pesticide only kills mosquitos when there is contact this would explain why we saw these findings."
   ]
  },
  {
   "cell_type": "markdown",
   "metadata": {},
   "source": [
    "---"
   ]
  },
  {
   "cell_type": "markdown",
   "metadata": {},
   "source": [
    "# 5.0 Cost Benefit Analysis"
   ]
  },
  {
   "cell_type": "markdown",
   "metadata": {},
   "source": [
    "### How much of an issue is cost?"
   ]
  },
  {
   "cell_type": "markdown",
   "metadata": {},
   "source": [
    "+ WNV hospitalizations cost $778 million in U.S.  1999 - 2014 [Cost of WNV](http://www.ajtmh.org/content/journals/10.4269/ajtmh.13-0206)\n",
    "\n",
    "+ To implement an effective plan comes at a cost. In 2013 some abatement areas were declaring themselves needing increased taxes to sustain the fogging programs. Others were financial stable only if there wasnt a major outbreak.\n",
    "\n",
    "+ On top of this\n",
    ">the state lab that tested thousands of birds and mosquitoes to track the disease has run out of money and will not begin testing anew in the spring unless the legislature restores funding\n",
    "\n",
    "Chicago has 21 abatement areas. Nortwhest abatement area said it is costing them $2.17 million a year. So the cost of this is significant.\n",
    "\n",
    "- Emergency funds $1.8 million already handed out to help with controllling the issue.\n",
    "\n",
    "[Chiago Tribune](https://www.chicagotribune.com/news/ct-xpm-2003-03-09-0303090283-story.html)\n",
    "\n",
    "#### So Cost is an issue. \n",
    "\n",
    "+ It costs a lot to treat the illness.\n",
    "+ It costs a lot to prevent and contain it.\n",
    "\n",
    "#### Therefore a cost effective plan and one that achieves results is important."
   ]
  },
  {
   "cell_type": "markdown",
   "metadata": {},
   "source": [
    "---"
   ]
  },
  {
   "cell_type": "markdown",
   "metadata": {},
   "source": [
    "# 6.0 Recommendations"
   ]
  },
  {
   "cell_type": "markdown",
   "metadata": {},
   "source": [
    "![Strategy image](assets/Images/Strategy_Image.png)"
   ]
  },
  {
   "cell_type": "markdown",
   "metadata": {},
   "source": [
    "### 1) Funding\n",
    "\n",
    "+ Lobby for more funding for abatement areas to supplement local taxes\n",
    "+ Encourage dead bird surveillance to continue to prevent it being cut due to budget. This early warning system will provide key insights.\n",
    "\n",
    "### 2) Weather Warnings\n",
    "\n",
    "+ Monitor temperature and rain patterns. If the temperature is rising then and there is heavy rain these can be the triggers for more active prevention methods mentioned before. \n",
    "+ The weather chart shows that this is only likely in the summer months and this seasonality can help effective planning. \n",
    "\n",
    "\n",
    "### 3) Prevention\n",
    "\n",
    "Prevention is key to both control of the virus and keeping the costs low. \n",
    "\n",
    "+ Larvaciding\n",
    "+ Public Education\n",
    "    + Destroy potential breeding grounds at home\n",
    "    + Help report bird deaths\n",
    "    + Personal bite avoidance advice\n",
    "\n",
    "\n",
    "### 4) Surveillance: \n",
    "\n",
    "+ Mosquito Surveillance\n",
    "    + Very important to see how sucessful the prevention has been\n",
    "    + A key trigger to start Adulticiding\n",
    "    + Type of trap - Try and use a mix\n",
    "        + Cheap light traps are not the best at capturing large numbers of mosquitos but can be good to increase surveillance at low cost\n",
    "        + Gravid traps are better at collecting larger numbers of mosquitos but only attract females\n",
    "        + Suction traps are expensive but get good mix of mosquitos.\n",
    "    \n",
    "    \n",
    "+ Dead birds\n",
    "    + As cost is an issue collate the dead birds location for spatial and quantities would privide a lot of research.\n",
    "    + Crows and Raptors are prone to dying from WNV a large number of reports of crow deaths would be a strong indicator of WNV presence.\n",
    "    + Stopping it would be a loss of key information especially given how the WNV is transmitted.\n",
    "    \n",
    "    \n",
    "+ Human and Equine case monitoring\n",
    "    + Keeping track of actual transmission to humans is important. If the cases are rising more severe action will be needed.\n",
    "    + This is more reactive and not the ideal scenario for public safety\n",
    "    \n",
    "### 5) Reactive Response\n",
    "\n",
    "+ Aim to avoid this being necessary\n",
    "+ Respond to rising levels of mosquitos and WNV cases by spraying circle of max 3 miles around test site. This is the max distance Culex mosquitos fly.\n",
    "+ Human and equine cases taken into account. The more cases means that more drastic action is required.\n",
    "\n",
    "    \n",
    "    \n",
    "### 6) Communication\n",
    "\n",
    "+ Without an intergrated approach between all these steps and parties then the plan will be ineffective.\n",
    "+ There needs to be coordnation between trap collectors, weather office, different abatement areas, spray companies and the citizens of Chicago.\n",
    "+ They all need to play their part to save costs, contain any oubreaks and save lives. \n",
    "    \n",
    "    \n",
    "[Types of traps](http://www.vdci.net/blog/mosquito-surveillance-traps-are-they-all-the-same) | \n",
    "[CDC WNV Resources](https://www.cdc.gov/westnile/resources/pdfs/wnvGuidelines.pdf)"
   ]
  },
  {
   "cell_type": "markdown",
   "metadata": {},
   "source": [
    "---"
   ]
  },
  {
   "cell_type": "markdown",
   "metadata": {},
   "source": [
    "# 7.0 Further Research"
   ]
  },
  {
   "cell_type": "markdown",
   "metadata": {},
   "source": [
    "## Surveillance Data\n",
    "\n",
    "Adding more data from different sources could help improve the accuracy of the model\n",
    "\n",
    "+ Dead Birds\n",
    "    + These are a good warning sign of the presence of West Nile Virus\n",
    "    + Adding this with a time lag e could be a key feature\n",
    "    \n",
    "    \n",
    "+ Wild Birds\n",
    "    + More expensive testin but if there was data it would help determine presences of West Nile Virus.\n",
    "    + Some birds are unaffected so active tsting would be needed\n",
    "    \n",
    "    \n",
    "+ Human and Equine cases\n",
    "    + Adding current cases would also help show the actual presence of the model and be a key predictor.\n"
   ]
  },
  {
   "cell_type": "markdown",
   "metadata": {},
   "source": [
    "## Spray data\n",
    "\n",
    "+ Having more data about where and when spraying data occured would help determine effectiveness and patterns\n",
    "+ Knowing the different types of spraying would also help the model but determine effectiveness of the two type on controlling the spread of West Nile Virus"
   ]
  },
  {
   "cell_type": "code",
   "execution_count": null,
   "metadata": {},
   "outputs": [],
   "source": []
  }
 ],
 "metadata": {
  "kernelspec": {
   "display_name": "Python 3",
   "language": "python",
   "name": "python3"
  },
  "language_info": {
   "codemirror_mode": {
    "name": "ipython",
    "version": 3
   },
   "file_extension": ".py",
   "mimetype": "text/x-python",
   "name": "python",
   "nbconvert_exporter": "python",
   "pygments_lexer": "ipython3",
   "version": "3.7.6"
  }
 },
 "nbformat": 4,
 "nbformat_minor": 4
}
