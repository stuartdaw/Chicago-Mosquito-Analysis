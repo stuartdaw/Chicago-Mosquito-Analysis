{
 "cells": [
  {
   "cell_type": "markdown",
   "metadata": {},
   "source": [
    "### Importing Data"
   ]
  },
  {
   "cell_type": "code",
   "execution_count": 1,
   "metadata": {},
   "outputs": [],
   "source": [
    "# Import the libraries\n",
    "\n",
    "import pandas as pd\n",
    "import numpy as np\n",
    "import seaborn as sns\n",
    "import matplotlib.pyplot as plt\n",
    "%matplotlib inline\n",
    "import datetime"
   ]
  },
  {
   "cell_type": "code",
   "execution_count": 2,
   "metadata": {},
   "outputs": [],
   "source": [
    "pd.set_option('display.max_columns', None)\n",
    "\n",
    "weather = pd.read_csv('./assets/weather.csv')"
   ]
  },
  {
   "cell_type": "markdown",
   "metadata": {},
   "source": [
    "### Data Overview"
   ]
  },
  {
   "cell_type": "code",
   "execution_count": 3,
   "metadata": {},
   "outputs": [
    {
     "data": {
      "text/plain": [
       "(2944, 22)"
      ]
     },
     "execution_count": 3,
     "metadata": {},
     "output_type": "execute_result"
    }
   ],
   "source": [
    "weather.shape"
   ]
  },
  {
   "cell_type": "markdown",
   "metadata": {},
   "source": [
    "There are 2944 data points and 22 variables"
   ]
  },
  {
   "cell_type": "code",
   "execution_count": 4,
   "metadata": {
    "scrolled": true
   },
   "outputs": [
    {
     "data": {
      "text/html": [
       "<div>\n",
       "<style scoped>\n",
       "    .dataframe tbody tr th:only-of-type {\n",
       "        vertical-align: middle;\n",
       "    }\n",
       "\n",
       "    .dataframe tbody tr th {\n",
       "        vertical-align: top;\n",
       "    }\n",
       "\n",
       "    .dataframe thead th {\n",
       "        text-align: right;\n",
       "    }\n",
       "</style>\n",
       "<table border=\"1\" class=\"dataframe\">\n",
       "  <thead>\n",
       "    <tr style=\"text-align: right;\">\n",
       "      <th></th>\n",
       "      <th>Station</th>\n",
       "      <th>Date</th>\n",
       "      <th>Tmax</th>\n",
       "      <th>Tmin</th>\n",
       "      <th>Tavg</th>\n",
       "      <th>Depart</th>\n",
       "      <th>DewPoint</th>\n",
       "      <th>WetBulb</th>\n",
       "      <th>Heat</th>\n",
       "      <th>Cool</th>\n",
       "      <th>Sunrise</th>\n",
       "      <th>Sunset</th>\n",
       "      <th>CodeSum</th>\n",
       "      <th>Depth</th>\n",
       "      <th>Water1</th>\n",
       "      <th>SnowFall</th>\n",
       "      <th>PrecipTotal</th>\n",
       "      <th>StnPressure</th>\n",
       "      <th>SeaLevel</th>\n",
       "      <th>ResultSpeed</th>\n",
       "      <th>ResultDir</th>\n",
       "      <th>AvgSpeed</th>\n",
       "    </tr>\n",
       "  </thead>\n",
       "  <tbody>\n",
       "    <tr>\n",
       "      <th>0</th>\n",
       "      <td>1</td>\n",
       "      <td>2007-05-01</td>\n",
       "      <td>83</td>\n",
       "      <td>50</td>\n",
       "      <td>67</td>\n",
       "      <td>14</td>\n",
       "      <td>51</td>\n",
       "      <td>56</td>\n",
       "      <td>0</td>\n",
       "      <td>2</td>\n",
       "      <td>0448</td>\n",
       "      <td>1849</td>\n",
       "      <td></td>\n",
       "      <td>0</td>\n",
       "      <td>M</td>\n",
       "      <td>0.0</td>\n",
       "      <td>0.00</td>\n",
       "      <td>29.10</td>\n",
       "      <td>29.82</td>\n",
       "      <td>1.7</td>\n",
       "      <td>27</td>\n",
       "      <td>9.2</td>\n",
       "    </tr>\n",
       "    <tr>\n",
       "      <th>1</th>\n",
       "      <td>2</td>\n",
       "      <td>2007-05-01</td>\n",
       "      <td>84</td>\n",
       "      <td>52</td>\n",
       "      <td>68</td>\n",
       "      <td>M</td>\n",
       "      <td>51</td>\n",
       "      <td>57</td>\n",
       "      <td>0</td>\n",
       "      <td>3</td>\n",
       "      <td>-</td>\n",
       "      <td>-</td>\n",
       "      <td></td>\n",
       "      <td>M</td>\n",
       "      <td>M</td>\n",
       "      <td>M</td>\n",
       "      <td>0.00</td>\n",
       "      <td>29.18</td>\n",
       "      <td>29.82</td>\n",
       "      <td>2.7</td>\n",
       "      <td>25</td>\n",
       "      <td>9.6</td>\n",
       "    </tr>\n",
       "    <tr>\n",
       "      <th>2</th>\n",
       "      <td>1</td>\n",
       "      <td>2007-05-02</td>\n",
       "      <td>59</td>\n",
       "      <td>42</td>\n",
       "      <td>51</td>\n",
       "      <td>-3</td>\n",
       "      <td>42</td>\n",
       "      <td>47</td>\n",
       "      <td>14</td>\n",
       "      <td>0</td>\n",
       "      <td>0447</td>\n",
       "      <td>1850</td>\n",
       "      <td>BR</td>\n",
       "      <td>0</td>\n",
       "      <td>M</td>\n",
       "      <td>0.0</td>\n",
       "      <td>0.00</td>\n",
       "      <td>29.38</td>\n",
       "      <td>30.09</td>\n",
       "      <td>13.0</td>\n",
       "      <td>4</td>\n",
       "      <td>13.4</td>\n",
       "    </tr>\n",
       "    <tr>\n",
       "      <th>3</th>\n",
       "      <td>2</td>\n",
       "      <td>2007-05-02</td>\n",
       "      <td>60</td>\n",
       "      <td>43</td>\n",
       "      <td>52</td>\n",
       "      <td>M</td>\n",
       "      <td>42</td>\n",
       "      <td>47</td>\n",
       "      <td>13</td>\n",
       "      <td>0</td>\n",
       "      <td>-</td>\n",
       "      <td>-</td>\n",
       "      <td>BR HZ</td>\n",
       "      <td>M</td>\n",
       "      <td>M</td>\n",
       "      <td>M</td>\n",
       "      <td>0.00</td>\n",
       "      <td>29.44</td>\n",
       "      <td>30.08</td>\n",
       "      <td>13.3</td>\n",
       "      <td>2</td>\n",
       "      <td>13.4</td>\n",
       "    </tr>\n",
       "    <tr>\n",
       "      <th>4</th>\n",
       "      <td>1</td>\n",
       "      <td>2007-05-03</td>\n",
       "      <td>66</td>\n",
       "      <td>46</td>\n",
       "      <td>56</td>\n",
       "      <td>2</td>\n",
       "      <td>40</td>\n",
       "      <td>48</td>\n",
       "      <td>9</td>\n",
       "      <td>0</td>\n",
       "      <td>0446</td>\n",
       "      <td>1851</td>\n",
       "      <td></td>\n",
       "      <td>0</td>\n",
       "      <td>M</td>\n",
       "      <td>0.0</td>\n",
       "      <td>0.00</td>\n",
       "      <td>29.39</td>\n",
       "      <td>30.12</td>\n",
       "      <td>11.7</td>\n",
       "      <td>7</td>\n",
       "      <td>11.9</td>\n",
       "    </tr>\n",
       "  </tbody>\n",
       "</table>\n",
       "</div>"
      ],
      "text/plain": [
       "   Station        Date  Tmax  Tmin Tavg Depart  DewPoint WetBulb Heat Cool  \\\n",
       "0        1  2007-05-01    83    50   67     14        51      56    0    2   \n",
       "1        2  2007-05-01    84    52   68      M        51      57    0    3   \n",
       "2        1  2007-05-02    59    42   51     -3        42      47   14    0   \n",
       "3        2  2007-05-02    60    43   52      M        42      47   13    0   \n",
       "4        1  2007-05-03    66    46   56      2        40      48    9    0   \n",
       "\n",
       "  Sunrise Sunset CodeSum Depth Water1 SnowFall PrecipTotal StnPressure  \\\n",
       "0    0448   1849             0      M      0.0        0.00       29.10   \n",
       "1       -      -             M      M        M        0.00       29.18   \n",
       "2    0447   1850      BR     0      M      0.0        0.00       29.38   \n",
       "3       -      -   BR HZ     M      M        M        0.00       29.44   \n",
       "4    0446   1851             0      M      0.0        0.00       29.39   \n",
       "\n",
       "  SeaLevel  ResultSpeed  ResultDir AvgSpeed  \n",
       "0    29.82          1.7         27      9.2  \n",
       "1    29.82          2.7         25      9.6  \n",
       "2    30.09         13.0          4     13.4  \n",
       "3    30.08         13.3          2     13.4  \n",
       "4    30.12         11.7          7     11.9  "
      ]
     },
     "execution_count": 4,
     "metadata": {},
     "output_type": "execute_result"
    }
   ],
   "source": [
    "weather.head()"
   ]
  },
  {
   "cell_type": "code",
   "execution_count": 5,
   "metadata": {},
   "outputs": [
    {
     "data": {
      "text/plain": [
       "Station        0\n",
       "Date           0\n",
       "Tmax           0\n",
       "Tmin           0\n",
       "Tavg           0\n",
       "Depart         0\n",
       "DewPoint       0\n",
       "WetBulb        0\n",
       "Heat           0\n",
       "Cool           0\n",
       "Sunrise        0\n",
       "Sunset         0\n",
       "CodeSum        0\n",
       "Depth          0\n",
       "Water1         0\n",
       "SnowFall       0\n",
       "PrecipTotal    0\n",
       "StnPressure    0\n",
       "SeaLevel       0\n",
       "ResultSpeed    0\n",
       "ResultDir      0\n",
       "AvgSpeed       0\n",
       "dtype: int64"
      ]
     },
     "execution_count": 5,
     "metadata": {},
     "output_type": "execute_result"
    }
   ],
   "source": [
    "# Check for null values for each feature\n",
    "\n",
    "weather.isnull().sum()"
   ]
  },
  {
   "cell_type": "code",
   "execution_count": 6,
   "metadata": {
    "scrolled": true
   },
   "outputs": [
    {
     "name": "stdout",
     "output_type": "stream",
     "text": [
      "<class 'pandas.core.frame.DataFrame'>\n",
      "RangeIndex: 2944 entries, 0 to 2943\n",
      "Data columns (total 22 columns):\n",
      " #   Column       Non-Null Count  Dtype  \n",
      "---  ------       --------------  -----  \n",
      " 0   Station      2944 non-null   int64  \n",
      " 1   Date         2944 non-null   object \n",
      " 2   Tmax         2944 non-null   int64  \n",
      " 3   Tmin         2944 non-null   int64  \n",
      " 4   Tavg         2944 non-null   object \n",
      " 5   Depart       2944 non-null   object \n",
      " 6   DewPoint     2944 non-null   int64  \n",
      " 7   WetBulb      2944 non-null   object \n",
      " 8   Heat         2944 non-null   object \n",
      " 9   Cool         2944 non-null   object \n",
      " 10  Sunrise      2944 non-null   object \n",
      " 11  Sunset       2944 non-null   object \n",
      " 12  CodeSum      2944 non-null   object \n",
      " 13  Depth        2944 non-null   object \n",
      " 14  Water1       2944 non-null   object \n",
      " 15  SnowFall     2944 non-null   object \n",
      " 16  PrecipTotal  2944 non-null   object \n",
      " 17  StnPressure  2944 non-null   object \n",
      " 18  SeaLevel     2944 non-null   object \n",
      " 19  ResultSpeed  2944 non-null   float64\n",
      " 20  ResultDir    2944 non-null   int64  \n",
      " 21  AvgSpeed     2944 non-null   object \n",
      "dtypes: float64(1), int64(5), object(16)\n",
      "memory usage: 506.1+ KB\n"
     ]
    }
   ],
   "source": [
    "# Check the data types and completeness of data\n",
    "\n",
    "weather.info()"
   ]
  },
  {
   "cell_type": "markdown",
   "metadata": {},
   "source": [
    "### Terminology of Table"
   ]
  },
  {
   "cell_type": "markdown",
   "metadata": {},
   "source": [
    "|Feature|Description\n",
    "|:--|:--- \n",
    "|Station |STATION WHERE OBSERVATIONS WERE TAKEN\n",
    "|Date| DATE OF MEASUREMENT \n",
    "|Tmax| MAXIMUM TEMPERATURE (DEGREES F)  \n",
    "|Tmin| MINIMUM TEMPERATURE (DEGREES F)\n",
    "|Tavg| AVERAGE TEMPERATURE (DEGREES F)\n",
    "|Depart| DEPARTURE FROM NORMAL (DEGREES F)\n",
    "|DewPoint| AVERAGE DEW POINT (DEGREES F) \n",
    "|WetBulb| AVERAGE WET BULB (DEGREES F)\n",
    "|Heat| HEATING (SEASON BEGINS WITH JULY)  \n",
    "|Cool| COOLING (SEASON BEGINS WITH JANUARY) \n",
    "|Sunrise| SUNRISE (Calculated, not observed) \n",
    "|Sunset| SUNSET (Calculated, not observed)  \n",
    "|CodeSum| WEATHER TYPE \n",
    "|Depth| SNOW/ICE (ON GROUND)(1200 UTC)  \n",
    "|Water1| WATER EQUIVALENT (1800 UTC)\n",
    "|SnowFall| SNOWFALL (INCHES AND TENTHS)(2400 LST) \n",
    "|PrecipTotal| PRECIPITATION INCHES (24-HR PERIOD ENDING AT INDICATED LOCAL STANDARD TIME) \n",
    "|StnPressure| AVERAGE STATION PRESSURE (INCHES OF HG) \n",
    "|SeaLevel| AVERAGE SEA LEVEL PRESSURE (INCHES OF HG) \n",
    "|ResultSpeed| RESULTANT WIND SPEED -  MILES PER HOUR \n",
    "|ResultDir| RESULTANT DIRECTION - (WHOLE DEGREES)  \n",
    "|AvgSpeed| AVERAGE SPEED \n",
    " \n",
    " T - Trace Data considered too small to be measured by standard units<br />\n",
    " M - Missing"
   ]
  },
  {
   "cell_type": "markdown",
   "metadata": {},
   "source": [
    "### Inspection of Raw Data"
   ]
  },
  {
   "cell_type": "markdown",
   "metadata": {},
   "source": [
    "|Feature|Data Type|Findings\n",
    "|:--|:-- |:-- \n",
    "|Station|int64 |2 stations ( CHICAGO O'HARE INTERNATIONAL AIRPORT or CHICAGO MIDWAY INTL ARPT)\n",
    "|Date|object| Months of May till October (From the years 2007 to 2014)\n",
    "|Tmax|int64 | Integer value range. No differing formats\n",
    "|Tmin|int64 | Integer value range. No differing formats\n",
    "|Tavg|object |Integer & Object value range. Contains missing values denoted by M\n",
    "|Depart|object |Integer & Object value range. Contains missing values denoted by M\n",
    "|DewPoint|int64 |Integer value range. No differing formats|\n",
    "|WetBulb|object |Integer & Object value range. Contains missing values denoted by M\n",
    "|Heat|object  |Integer & Object value range. Null value denoted by 0. Contains missing values denoted by M\n",
    "|Cool|object  |Integer & Object value range. Null value denoted by 0. Contains missing values denoted by M \n",
    "|Sunrise|object  |Integer & Object value range. Contains missing values denoted by \"-\"\n",
    "|Sunset|object  |Integer & Object value range. Contains missing values denoted by \"-\"\n",
    "|CodeSum|object  |Categorical Data of String Values with special characters denoting combinations. Contains blank cells\n",
    "|Depth|object  |Integer & Object value range. 2 values 0 or M. Contains missing values denoted by M\n",
    "|Water1|object | Object value range. Contains only one value M\n",
    "|SnowFall|object | Float and object value range with only 4 categories (0,0.1,M,T)\n",
    "|PrecipTotal|object |Float and object value range which a wide range of float values. Contains missing & trace values denoted by M,T\n",
    "|StnPressure|object | Float and object value range. Contains missing values denoted by M \n",
    "|SeaLevel|object  | Float and object value range. Contains missing values denoted by M    \n",
    "|ResultSpeed|float64 |Float value range. No differing formats     \n",
    "|ResultDir|int64 | Integer value range. No differing formats     \n",
    "|AvgSpeed|object | Float & Object value range. Contains missing values denoted by M "
   ]
  },
  {
   "cell_type": "markdown",
   "metadata": {},
   "source": [
    "### Proportion of missing values on affected variables"
   ]
  },
  {
   "cell_type": "code",
   "execution_count": 7,
   "metadata": {
    "scrolled": true
   },
   "outputs": [
    {
     "name": "stdout",
     "output_type": "stream",
     "text": [
      "Tavg - 11\n",
      "Depart - 1472\n",
      "WetBulb - 4\n",
      "Heat - 11\n",
      "Cool - 11\n",
      "Sunrise - 1472\n",
      "Sunset - 1472\n",
      "CodeSum - 1609\n",
      "Depth - 1472\n",
      "Water1 - 2944\n",
      "SnowFall (M) - 1472\n",
      "SnowFall (T) - 12\n",
      "PrecipTotal (M) - 2\n",
      "PrecipTotal (T) - 318\n",
      "StnPressure - 4\n",
      "SeaLevel - 9\n",
      "AvgSpeed - 3\n"
     ]
    }
   ],
   "source": [
    "print(\"Tavg - {}\".format((weather['Tavg'] == 'M').sum()))\n",
    "print(\"Depart - {}\".format((weather['Depart'] == 'M').sum()))\n",
    "print(\"WetBulb - {}\".format((weather['WetBulb'] == 'M').sum()))\n",
    "print(\"Heat - {}\".format((weather['Heat'] == 'M').sum()))\n",
    "print(\"Cool - {}\".format((weather['Cool'] == 'M').sum()))\n",
    "print(\"Sunrise - {}\".format((weather['Sunrise'] == '-').sum()))\n",
    "print(\"Sunset - {}\".format((weather['Sunset'] == '-').sum()))\n",
    "print(\"CodeSum - {}\".format((weather['CodeSum'] == ' ').sum()))\n",
    "print(\"Depth - {}\".format((weather['Depth'] == 'M').sum()))\n",
    "print(\"Water1 - {}\".format((weather['Water1'] == 'M').sum()))\n",
    "print(\"SnowFall (M) - {}\".format((weather['SnowFall'] == 'M').sum()))\n",
    "print(\"SnowFall (T) - {}\".format((weather['SnowFall'] == '  T').sum()))\n",
    "print(\"PrecipTotal (M) - {}\".format((weather['PrecipTotal'] == 'M').sum()))\n",
    "print(\"PrecipTotal (T) - {}\".format((weather['PrecipTotal'] == '  T').sum()))\n",
    "print(\"StnPressure - {}\".format((weather['StnPressure'] == 'M').sum()))\n",
    "print(\"SeaLevel - {}\".format((weather['SeaLevel'] == 'M').sum()))\n",
    "print(\"AvgSpeed - {}\".format((weather['AvgSpeed'] == 'M').sum()))"
   ]
  },
  {
   "cell_type": "markdown",
   "metadata": {},
   "source": [
    "### Preliminary Findings on the Raw Data Set"
   ]
  },
  {
   "cell_type": "markdown",
   "metadata": {},
   "source": [
    "<ul>\n",
    "<li>Irregular data type columns have missing or small trace data categorized by M,T,-, Blank values</li>\n",
    "<li>Dates can be more granularly segregated</li>\n",
    "<li>The station type bears little to no relevance since the weather conditions are provided in detail in data set</li>\n",
    "<li>Most of the numerical data should converted to float values after missing values are treated</li>\n",
    "<li>Half of the 'Departure' values are missing due to it not being tracked by Station 2. Considering that the departure from normal measures more of a variation from average temperature, this data could be dropped as it may not have an impact on temperatures that already exist and are recorded.</li>\n",
    "<li>More than half of the 'CodeSum' values are blank and the weather conditions come in several permutations. Dummification is possible but due to the large number of missing data, it might be prudent to drop this feature since there are other more preise temperature indicators</li>\n",
    "<li>Half of 'Depth' has missing and the remaining values are also zero. Hence, the entire set would still be zero value after any imputation and hence would be dropped. The snow/ice depth also seems to be irrelevant since the whole category itself points to a very low temperature.</li>\n",
    "<li>Half of 'Sunrise' & 'Sunset' values are missing due to them not being tracked by Station 2. The loss of data for the sets are too big to be imputed since it does not contain categorical data as well. Both variables will be dropped.</li>\n",
    "<li>'Water1' has the same values of missing and should be dropped.</li>\n",
    "<li>'Snowfall' depth also seems to be irrelevant since the whole category itself points to a very low temperature. This feature will be dropped</li>\n",
    "<li>'Tavg', 'WetBulb', 'Heat', 'Cool','PrecipTotal','StnPressure','SeaLevel','AvgSpeed' are eligible categories that have 'M' values.</li>\n",
    "<li>Trace amount is defined as less than 0.005 inch</li>\n",
    "</ul>"
   ]
  },
  {
   "cell_type": "markdown",
   "metadata": {},
   "source": [
    "|Feature|Action\n",
    "|:--|:-- \n",
    "|Date|To further break up into Year, Month & Day\n",
    "|Station|To drop since not relevant in train or test set\n",
    "|Tavg|Replace missing denotation with Nan type\n",
    "|Depart|To drop\n",
    "|WetBulb|Replace missing denotation with Nan type\n",
    "|Heat|Replace missing denotation with Nan type\n",
    "|Cool|Replace missing denotation with Nan type\n",
    "|Sunrise|To drop\n",
    "|Sunset|To drop\n",
    "|CodeSum|To drop\n",
    "|Depth|To drop\n",
    "|Water1|To drop\n",
    "|SnowFall|To drop    \n",
    "|PrecipTotal|Replace missing denotation with Nan type and trace values with 0.005    \n",
    "|StnPressure|Replace missing denotation with Nan type \n",
    "|SeaLevel|Replace missing denotation with Nan type           \n",
    "|AvgSpeed|Replace missing denotation with Nan type "
   ]
  },
  {
   "cell_type": "markdown",
   "metadata": {},
   "source": [
    "### Drop identified features"
   ]
  },
  {
   "cell_type": "code",
   "execution_count": 8,
   "metadata": {},
   "outputs": [],
   "source": [
    "weather.drop(['Station','Depart','Sunrise','Sunset','CodeSum','Depth','Water1','SnowFall'],axis=1,inplace=True)"
   ]
  },
  {
   "cell_type": "code",
   "execution_count": 9,
   "metadata": {
    "scrolled": true
   },
   "outputs": [
    {
     "data": {
      "text/html": [
       "<div>\n",
       "<style scoped>\n",
       "    .dataframe tbody tr th:only-of-type {\n",
       "        vertical-align: middle;\n",
       "    }\n",
       "\n",
       "    .dataframe tbody tr th {\n",
       "        vertical-align: top;\n",
       "    }\n",
       "\n",
       "    .dataframe thead th {\n",
       "        text-align: right;\n",
       "    }\n",
       "</style>\n",
       "<table border=\"1\" class=\"dataframe\">\n",
       "  <thead>\n",
       "    <tr style=\"text-align: right;\">\n",
       "      <th></th>\n",
       "      <th>Date</th>\n",
       "      <th>Tmax</th>\n",
       "      <th>Tmin</th>\n",
       "      <th>Tavg</th>\n",
       "      <th>DewPoint</th>\n",
       "      <th>WetBulb</th>\n",
       "      <th>Heat</th>\n",
       "      <th>Cool</th>\n",
       "      <th>PrecipTotal</th>\n",
       "      <th>StnPressure</th>\n",
       "      <th>SeaLevel</th>\n",
       "      <th>ResultSpeed</th>\n",
       "      <th>ResultDir</th>\n",
       "      <th>AvgSpeed</th>\n",
       "    </tr>\n",
       "  </thead>\n",
       "  <tbody>\n",
       "    <tr>\n",
       "      <th>0</th>\n",
       "      <td>2007-05-01</td>\n",
       "      <td>83</td>\n",
       "      <td>50</td>\n",
       "      <td>67</td>\n",
       "      <td>51</td>\n",
       "      <td>56</td>\n",
       "      <td>0</td>\n",
       "      <td>2</td>\n",
       "      <td>0.00</td>\n",
       "      <td>29.10</td>\n",
       "      <td>29.82</td>\n",
       "      <td>1.7</td>\n",
       "      <td>27</td>\n",
       "      <td>9.2</td>\n",
       "    </tr>\n",
       "    <tr>\n",
       "      <th>1</th>\n",
       "      <td>2007-05-01</td>\n",
       "      <td>84</td>\n",
       "      <td>52</td>\n",
       "      <td>68</td>\n",
       "      <td>51</td>\n",
       "      <td>57</td>\n",
       "      <td>0</td>\n",
       "      <td>3</td>\n",
       "      <td>0.00</td>\n",
       "      <td>29.18</td>\n",
       "      <td>29.82</td>\n",
       "      <td>2.7</td>\n",
       "      <td>25</td>\n",
       "      <td>9.6</td>\n",
       "    </tr>\n",
       "    <tr>\n",
       "      <th>2</th>\n",
       "      <td>2007-05-02</td>\n",
       "      <td>59</td>\n",
       "      <td>42</td>\n",
       "      <td>51</td>\n",
       "      <td>42</td>\n",
       "      <td>47</td>\n",
       "      <td>14</td>\n",
       "      <td>0</td>\n",
       "      <td>0.00</td>\n",
       "      <td>29.38</td>\n",
       "      <td>30.09</td>\n",
       "      <td>13.0</td>\n",
       "      <td>4</td>\n",
       "      <td>13.4</td>\n",
       "    </tr>\n",
       "    <tr>\n",
       "      <th>3</th>\n",
       "      <td>2007-05-02</td>\n",
       "      <td>60</td>\n",
       "      <td>43</td>\n",
       "      <td>52</td>\n",
       "      <td>42</td>\n",
       "      <td>47</td>\n",
       "      <td>13</td>\n",
       "      <td>0</td>\n",
       "      <td>0.00</td>\n",
       "      <td>29.44</td>\n",
       "      <td>30.08</td>\n",
       "      <td>13.3</td>\n",
       "      <td>2</td>\n",
       "      <td>13.4</td>\n",
       "    </tr>\n",
       "    <tr>\n",
       "      <th>4</th>\n",
       "      <td>2007-05-03</td>\n",
       "      <td>66</td>\n",
       "      <td>46</td>\n",
       "      <td>56</td>\n",
       "      <td>40</td>\n",
       "      <td>48</td>\n",
       "      <td>9</td>\n",
       "      <td>0</td>\n",
       "      <td>0.00</td>\n",
       "      <td>29.39</td>\n",
       "      <td>30.12</td>\n",
       "      <td>11.7</td>\n",
       "      <td>7</td>\n",
       "      <td>11.9</td>\n",
       "    </tr>\n",
       "  </tbody>\n",
       "</table>\n",
       "</div>"
      ],
      "text/plain": [
       "         Date  Tmax  Tmin Tavg  DewPoint WetBulb Heat Cool PrecipTotal  \\\n",
       "0  2007-05-01    83    50   67        51      56    0    2        0.00   \n",
       "1  2007-05-01    84    52   68        51      57    0    3        0.00   \n",
       "2  2007-05-02    59    42   51        42      47   14    0        0.00   \n",
       "3  2007-05-02    60    43   52        42      47   13    0        0.00   \n",
       "4  2007-05-03    66    46   56        40      48    9    0        0.00   \n",
       "\n",
       "  StnPressure SeaLevel  ResultSpeed  ResultDir AvgSpeed  \n",
       "0       29.10    29.82          1.7         27      9.2  \n",
       "1       29.18    29.82          2.7         25      9.6  \n",
       "2       29.38    30.09         13.0          4     13.4  \n",
       "3       29.44    30.08         13.3          2     13.4  \n",
       "4       29.39    30.12         11.7          7     11.9  "
      ]
     },
     "execution_count": 9,
     "metadata": {},
     "output_type": "execute_result"
    }
   ],
   "source": [
    "#Verify columns have been dropped\n",
    "weather.head()"
   ]
  },
  {
   "cell_type": "markdown",
   "metadata": {},
   "source": [
    "### Treatment of M & T values"
   ]
  },
  {
   "cell_type": "code",
   "execution_count": 10,
   "metadata": {},
   "outputs": [],
   "source": [
    "weather['Tavg'] = weather['Tavg'].apply(lambda x: np.nan if x == 'M' else x)\n",
    "weather['WetBulb'] = weather['WetBulb'].apply(lambda x: np.nan if x == 'M' else x)\n",
    "weather['Heat'] = weather['Heat'].apply(lambda x: np.nan if x == 'M' else x)\n",
    "weather['Cool'] = weather['Cool'].apply(lambda x: np.nan if x == 'M' else x)\n",
    "weather['PrecipTotal'] = weather['PrecipTotal'].apply(lambda x: np.nan if x == 'M' else x)\n",
    "weather['PrecipTotal'] = weather['PrecipTotal'].apply(lambda x: '0.005' if x == '  T' else x)\n",
    "weather['StnPressure'] = weather['StnPressure'].apply(lambda x: np.nan if x == 'M' else x)\n",
    "weather['SeaLevel'] = weather['SeaLevel'].apply(lambda x: np.nan if x == 'M' else x)\n",
    "weather['AvgSpeed'] = weather['AvgSpeed'].apply(lambda x: np.nan if x == 'M' else x)"
   ]
  },
  {
   "cell_type": "markdown",
   "metadata": {},
   "source": [
    "### Correct Data Formats"
   ]
  },
  {
   "cell_type": "code",
   "execution_count": 11,
   "metadata": {},
   "outputs": [],
   "source": [
    "format_columns = ['Tmax', 'Tmin', 'Tavg', 'DewPoint','WetBulb','Heat','Cool','PrecipTotal','StnPressure','SeaLevel','AvgSpeed']\n",
    "\n",
    "for i in format_columns:\n",
    "    weather[i] = weather[i].astype(float)"
   ]
  },
  {
   "cell_type": "code",
   "execution_count": 12,
   "metadata": {},
   "outputs": [],
   "source": [
    "weather[\"Date\"] = weather[\"Date\"].astype(\"datetime64\")\n",
    "\n",
    "weather['Year'] = weather['Date'].dt.year\n",
    "weather['Month'] = weather['Date'].dt.month\n",
    "weather['Day'] = weather['Date'].dt.day"
   ]
  },
  {
   "cell_type": "code",
   "execution_count": 13,
   "metadata": {
    "scrolled": false
   },
   "outputs": [
    {
     "name": "stdout",
     "output_type": "stream",
     "text": [
      "<class 'pandas.core.frame.DataFrame'>\n",
      "RangeIndex: 2944 entries, 0 to 2943\n",
      "Data columns (total 17 columns):\n",
      " #   Column       Non-Null Count  Dtype         \n",
      "---  ------       --------------  -----         \n",
      " 0   Date         2944 non-null   datetime64[ns]\n",
      " 1   Tmax         2944 non-null   float64       \n",
      " 2   Tmin         2944 non-null   float64       \n",
      " 3   Tavg         2933 non-null   float64       \n",
      " 4   DewPoint     2944 non-null   float64       \n",
      " 5   WetBulb      2940 non-null   float64       \n",
      " 6   Heat         2933 non-null   float64       \n",
      " 7   Cool         2933 non-null   float64       \n",
      " 8   PrecipTotal  2942 non-null   float64       \n",
      " 9   StnPressure  2940 non-null   float64       \n",
      " 10  SeaLevel     2935 non-null   float64       \n",
      " 11  ResultSpeed  2944 non-null   float64       \n",
      " 12  ResultDir    2944 non-null   int64         \n",
      " 13  AvgSpeed     2941 non-null   float64       \n",
      " 14  Year         2944 non-null   int64         \n",
      " 15  Month        2944 non-null   int64         \n",
      " 16  Day          2944 non-null   int64         \n",
      "dtypes: datetime64[ns](1), float64(12), int64(4)\n",
      "memory usage: 391.1 KB\n"
     ]
    }
   ],
   "source": [
    "# Verify format change\n",
    "weather.info()"
   ]
  },
  {
   "cell_type": "markdown",
   "metadata": {},
   "source": [
    "### Unique values for each variable"
   ]
  },
  {
   "cell_type": "code",
   "execution_count": 14,
   "metadata": {},
   "outputs": [
    {
     "name": "stdout",
     "output_type": "stream",
     "text": [
      "Date - 1472\n",
      "Tmax - 63\n",
      "Tmin - 54\n",
      "Tavg - 59\n",
      "DewPoint - 54\n",
      "WetBulb - 47\n",
      "Heat - 30\n",
      "Cool - 30\n",
      "PrecipTotal - 167\n",
      "StnPressure - 103\n",
      "SeaLevel - 101\n",
      "ResultSpeed - 190\n",
      "ResultDir - 36\n",
      "AvgSpeed - 177\n",
      "Year - 8\n",
      "Month - 6\n",
      "Day - 31\n"
     ]
    }
   ],
   "source": [
    "for i in weather.columns:\n",
    "    print(\"{0} - {1}\".format(i,weather[i].nunique()))"
   ]
  },
  {
   "cell_type": "markdown",
   "metadata": {},
   "source": [
    "### Examine Correlation between Weather Variables"
   ]
  },
  {
   "cell_type": "code",
   "execution_count": 15,
   "metadata": {
    "scrolled": false
   },
   "outputs": [
    {
     "data": {
      "image/png": "[encoded data removed]",
      "text/plain": [
       "<Figure size 1080x576 with 2 Axes>"
      ]
     },
     "metadata": {
      "needs_background": "light"
     },
     "output_type": "display_data"
    }
   ],
   "source": [
    "fix, ax = plt.subplots(figsize=(15,8))\n",
    "\n",
    "mask = np.zeros_like(weather.corr(), dtype=np.bool)\n",
    "mask[np.triu_indices_from(mask)] = True\n",
    "\n",
    "ax = sns.heatmap(weather.corr(), annot=True,mask=mask, ax=ax).set_title(\"Correlation of Weather Variables\");\n",
    "\n",
    "plt.show()"
   ]
  },
  {
   "cell_type": "markdown",
   "metadata": {},
   "source": [
    "From the correlation heatmap, we can observe <b>inter-correlation of more than 0.5</b> between:\n",
    "    <ul>\n",
    "    <li><b>Tmax vs Tmin</b> - A seasonal temperature range will be higher or lower at certain periods, relation will be further examined</li>\n",
    "        <li><b>Tavg vs Tmax/Tmin</b> - Average based off the actual values of high and low temperatures, hence it will be positive correlated</li>\n",
    "        <li><b>Wetbulb vs Temperature Values</b> - Wetbulb are based on the existing temperatures with a humidity factor included, hence it will be positive correlated</li>\n",
    "            <li><b>Wetbulb vs Dewpoint</b> - The dew point is the temperature to which air must be cooled to become saturated with water vapor and is inter-related to the wet bulb and dry bulb temperature. Hence it will be positive correlated</li>\n",
    "        <li><b>Heat vs Temperature Values</b> - Strong negative correlation between Heat and Temperature</li>\n",
    "        <li><b>Heat vs Cool</b> - Both are inversely correlation</li>\n",
    "        <li><b>Cool vs Temperature Values</b> - Strong positive correlation between Heat and Temperature</li>\n",
    "    </ul>\n",
    "The significant correlations are mostly within different variants of temperature measurements which mostly are to be expected and this collinearity may not give much significant insight. Correlations like Tmax and Tmin will be further examined."
   ]
  },
  {
   "cell_type": "code",
   "execution_count": 16,
   "metadata": {
    "scrolled": false
   },
   "outputs": [
    {
     "data": {
      "text/plain": [
       "Text(0.5, 1.0, 'Maximum Temperature Distribution by Month')"
      ]
     },
     "execution_count": 16,
     "metadata": {},
     "output_type": "execute_result"
    },
    {
     "data": {
      "image/png": "[encoded data removed]",
      "text/plain": [
       "<Figure size 1152x648 with 1 Axes>"
      ]
     },
     "metadata": {
      "needs_background": "light"
     },
     "output_type": "display_data"
    }
   ],
   "source": [
    "plt.figure(figsize=(16,9))\n",
    "plt.xlabel(\"Months\", fontsize = 20)\n",
    "plt.ylabel(\"Maximum Temperature\", fontsize = 20)\n",
    "plt.scatter(weather['Date'].dt.month, weather['Tmax'])\n",
    "plt.title('Maximum Temperature Distribution by Month',fontsize = 25)"
   ]
  },
  {
   "cell_type": "markdown",
   "metadata": {},
   "source": [
    "From the period of assessment from late-May to early-October, it is observed that the maximum tempeatures peak in July & Aug."
   ]
  },
  {
   "cell_type": "code",
   "execution_count": 17,
   "metadata": {
    "scrolled": false
   },
   "outputs": [
    {
     "data": {
      "text/plain": [
       "Text(0.5, 1.0, 'Heat vs Average Temperature')"
      ]
     },
     "execution_count": 17,
     "metadata": {},
     "output_type": "execute_result"
    },
    {
     "data": {
      "image/png": "[encoded data removed]",
      "text/plain": [
       "<Figure size 1152x648 with 1 Axes>"
      ]
     },
     "metadata": {
      "needs_background": "light"
     },
     "output_type": "display_data"
    }
   ],
   "source": [
    "plt.figure(figsize=(16,9))\n",
    "plt.xlabel(\"Heat\", fontsize = 20)\n",
    "plt.ylabel(\"Average Temperature\", fontsize = 20)\n",
    "plt.scatter(weather['Heat'], weather['Tavg'])\n",
    "plt.title('Heat vs Average Temperature',fontsize = 25)"
   ]
  },
  {
   "cell_type": "code",
   "execution_count": 18,
   "metadata": {
    "scrolled": true
   },
   "outputs": [
    {
     "data": {
      "text/plain": [
       "Text(0.5, 1.0, 'Cool vs Average Temperature')"
      ]
     },
     "execution_count": 18,
     "metadata": {},
     "output_type": "execute_result"
    },
    {
     "data": {
      "image/png": "[encoded data removed]",
      "text/plain": [
       "<Figure size 1152x648 with 1 Axes>"
      ]
     },
     "metadata": {
      "needs_background": "light"
     },
     "output_type": "display_data"
    }
   ],
   "source": [
    "plt.figure(figsize=(16,9))\n",
    "plt.xlabel(\"Cool\", fontsize = 20)\n",
    "plt.ylabel(\"Average Temperature\", fontsize = 20)\n",
    "plt.scatter(weather['Cool'], weather['Tavg'])\n",
    "plt.title('Cool vs Average Temperature',fontsize = 25)"
   ]
  },
  {
   "cell_type": "markdown",
   "metadata": {},
   "source": [
    "There is a very perfect linear relationship between the Heat vs Average Temperature as well as the Cool vs Average Temperature. This strongly suggests that the heat and cool factor seem to be relative benchmark ratings against the absolute temperatures."
   ]
  },
  {
   "cell_type": "code",
   "execution_count": 21,
   "metadata": {},
   "outputs": [],
   "source": [
    "weather.to_csv('./assets/weather_clean.csv', index=False)"
   ]
  }
 ],
 "metadata": {
  "kernelspec": {
   "display_name": "Python 3",
   "language": "python",
   "name": "python3"
  },
  "language_info": {
   "codemirror_mode": {
    "name": "ipython",
    "version": 3
   },
   "file_extension": ".py",
   "mimetype": "text/x-python",
   "name": "python",
   "nbconvert_exporter": "python",
   "pygments_lexer": "ipython3",
   "version": "3.7.6"
  }
 },
 "nbformat": 4,
 "nbformat_minor": 4
}
